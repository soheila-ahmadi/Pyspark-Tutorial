{
 "cells": [
  {
   "cell_type": "code",
   "execution_count": 2,
   "id": "c732fd01",
   "metadata": {},
   "outputs": [],
   "source": [
    "import pyspark"
   ]
  },
  {
   "cell_type": "code",
   "execution_count": 3,
   "id": "b7f9601b",
   "metadata": {},
   "outputs": [
    {
     "data": {
      "text/html": [
       "<div>\n",
       "<style scoped>\n",
       "    .dataframe tbody tr th:only-of-type {\n",
       "        vertical-align: middle;\n",
       "    }\n",
       "\n",
       "    .dataframe tbody tr th {\n",
       "        vertical-align: top;\n",
       "    }\n",
       "\n",
       "    .dataframe thead th {\n",
       "        text-align: right;\n",
       "    }\n",
       "</style>\n",
       "<table border=\"1\" class=\"dataframe\">\n",
       "  <thead>\n",
       "    <tr style=\"text-align: right;\">\n",
       "      <th></th>\n",
       "      <th>crotchheight</th>\n",
       "      <th>buttockcircumference</th>\n",
       "      <th>chestcircumference</th>\n",
       "      <th>thighcircumference</th>\n",
       "      <th>waistcircumference</th>\n",
       "      <th>sleeveoutseam</th>\n",
       "      <th>stature</th>\n",
       "      <th>waistbacklength</th>\n",
       "      <th>shouldercircumference</th>\n",
       "      <th>bodyID</th>\n",
       "      <th>DT_W_Pred2</th>\n",
       "      <th>RF_W_Pred</th>\n",
       "      <th>ABR_W_Pred</th>\n",
       "    </tr>\n",
       "  </thead>\n",
       "  <tbody>\n",
       "    <tr>\n",
       "      <th>0</th>\n",
       "      <td>79.6</td>\n",
       "      <td>138.6</td>\n",
       "      <td>136.5</td>\n",
       "      <td>81.2</td>\n",
       "      <td>141.9</td>\n",
       "      <td>60.0</td>\n",
       "      <td>185.6</td>\n",
       "      <td>46.8</td>\n",
       "      <td>141.5</td>\n",
       "      <td>CSR0001A</td>\n",
       "      <td>136.750000</td>\n",
       "      <td>132.346500</td>\n",
       "      <td>131.980132</td>\n",
       "    </tr>\n",
       "    <tr>\n",
       "      <th>1</th>\n",
       "      <td>81.0</td>\n",
       "      <td>111.0</td>\n",
       "      <td>114.4</td>\n",
       "      <td>63.0</td>\n",
       "      <td>104.5</td>\n",
       "      <td>58.1</td>\n",
       "      <td>181.0</td>\n",
       "      <td>48.4</td>\n",
       "      <td>124.7</td>\n",
       "      <td>CSR0002A</td>\n",
       "      <td>106.009091</td>\n",
       "      <td>99.123000</td>\n",
       "      <td>99.235394</td>\n",
       "    </tr>\n",
       "    <tr>\n",
       "      <th>2</th>\n",
       "      <td>76.0</td>\n",
       "      <td>104.1</td>\n",
       "      <td>112.3</td>\n",
       "      <td>62.7</td>\n",
       "      <td>97.4</td>\n",
       "      <td>55.7</td>\n",
       "      <td>173.0</td>\n",
       "      <td>47.6</td>\n",
       "      <td>124.6</td>\n",
       "      <td>CSR0007A</td>\n",
       "      <td>88.520000</td>\n",
       "      <td>89.374250</td>\n",
       "      <td>91.174662</td>\n",
       "    </tr>\n",
       "    <tr>\n",
       "      <th>3</th>\n",
       "      <td>78.1</td>\n",
       "      <td>102.2</td>\n",
       "      <td>102.0</td>\n",
       "      <td>60.3</td>\n",
       "      <td>91.1</td>\n",
       "      <td>54.3</td>\n",
       "      <td>175.2</td>\n",
       "      <td>47.7</td>\n",
       "      <td>113.3</td>\n",
       "      <td>CSR0008A</td>\n",
       "      <td>80.864000</td>\n",
       "      <td>78.876395</td>\n",
       "      <td>79.632162</td>\n",
       "    </tr>\n",
       "    <tr>\n",
       "      <th>4</th>\n",
       "      <td>77.9</td>\n",
       "      <td>106.1</td>\n",
       "      <td>107.8</td>\n",
       "      <td>59.9</td>\n",
       "      <td>98.1</td>\n",
       "      <td>55.9</td>\n",
       "      <td>175.1</td>\n",
       "      <td>47.0</td>\n",
       "      <td>119.2</td>\n",
       "      <td>CSR0009A</td>\n",
       "      <td>88.586207</td>\n",
       "      <td>86.664000</td>\n",
       "      <td>86.773203</td>\n",
       "    </tr>\n",
       "    <tr>\n",
       "      <th>...</th>\n",
       "      <td>...</td>\n",
       "      <td>...</td>\n",
       "      <td>...</td>\n",
       "      <td>...</td>\n",
       "      <td>...</td>\n",
       "      <td>...</td>\n",
       "      <td>...</td>\n",
       "      <td>...</td>\n",
       "      <td>...</td>\n",
       "      <td>...</td>\n",
       "      <td>...</td>\n",
       "      <td>...</td>\n",
       "      <td>...</td>\n",
       "    </tr>\n",
       "    <tr>\n",
       "      <th>4066</th>\n",
       "      <td>79.4</td>\n",
       "      <td>94.2</td>\n",
       "      <td>93.5</td>\n",
       "      <td>50.9</td>\n",
       "      <td>85.6</td>\n",
       "      <td>54.3</td>\n",
       "      <td>176.1</td>\n",
       "      <td>45.8</td>\n",
       "      <td>106.8</td>\n",
       "      <td>nl_7074a</td>\n",
       "      <td>69.050000</td>\n",
       "      <td>66.517852</td>\n",
       "      <td>67.426000</td>\n",
       "    </tr>\n",
       "    <tr>\n",
       "      <th>4067</th>\n",
       "      <td>75.1</td>\n",
       "      <td>113.6</td>\n",
       "      <td>105.0</td>\n",
       "      <td>67.5</td>\n",
       "      <td>94.2</td>\n",
       "      <td>50.5</td>\n",
       "      <td>163.5</td>\n",
       "      <td>39.9</td>\n",
       "      <td>112.3</td>\n",
       "      <td>nl_7076a</td>\n",
       "      <td>79.212500</td>\n",
       "      <td>79.982750</td>\n",
       "      <td>82.399296</td>\n",
       "    </tr>\n",
       "    <tr>\n",
       "      <th>4068</th>\n",
       "      <td>88.9</td>\n",
       "      <td>99.3</td>\n",
       "      <td>98.6</td>\n",
       "      <td>55.2</td>\n",
       "      <td>87.1</td>\n",
       "      <td>59.6</td>\n",
       "      <td>190.2</td>\n",
       "      <td>49.4</td>\n",
       "      <td>116.8</td>\n",
       "      <td>nl_7077a</td>\n",
       "      <td>82.890000</td>\n",
       "      <td>79.437083</td>\n",
       "      <td>77.333871</td>\n",
       "    </tr>\n",
       "    <tr>\n",
       "      <th>4069</th>\n",
       "      <td>73.5</td>\n",
       "      <td>113.4</td>\n",
       "      <td>101.8</td>\n",
       "      <td>66.6</td>\n",
       "      <td>95.4</td>\n",
       "      <td>49.0</td>\n",
       "      <td>160.3</td>\n",
       "      <td>40.1</td>\n",
       "      <td>108.6</td>\n",
       "      <td>nl_7078a</td>\n",
       "      <td>78.400000</td>\n",
       "      <td>76.162750</td>\n",
       "      <td>78.114908</td>\n",
       "    </tr>\n",
       "    <tr>\n",
       "      <th>4070</th>\n",
       "      <td>80.0</td>\n",
       "      <td>95.5</td>\n",
       "      <td>95.0</td>\n",
       "      <td>55.0</td>\n",
       "      <td>81.9</td>\n",
       "      <td>55.0</td>\n",
       "      <td>177.2</td>\n",
       "      <td>47.1</td>\n",
       "      <td>111.6</td>\n",
       "      <td>nl_7079a</td>\n",
       "      <td>68.700000</td>\n",
       "      <td>69.632801</td>\n",
       "      <td>71.334417</td>\n",
       "    </tr>\n",
       "  </tbody>\n",
       "</table>\n",
       "<p>4071 rows × 13 columns</p>\n",
       "</div>"
      ],
      "text/plain": [
       "      crotchheight  buttockcircumference  chestcircumference  \\\n",
       "0             79.6                 138.6               136.5   \n",
       "1             81.0                 111.0               114.4   \n",
       "2             76.0                 104.1               112.3   \n",
       "3             78.1                 102.2               102.0   \n",
       "4             77.9                 106.1               107.8   \n",
       "...            ...                   ...                 ...   \n",
       "4066          79.4                  94.2                93.5   \n",
       "4067          75.1                 113.6               105.0   \n",
       "4068          88.9                  99.3                98.6   \n",
       "4069          73.5                 113.4               101.8   \n",
       "4070          80.0                  95.5                95.0   \n",
       "\n",
       "      thighcircumference  waistcircumference  sleeveoutseam  stature  \\\n",
       "0                   81.2               141.9           60.0    185.6   \n",
       "1                   63.0               104.5           58.1    181.0   \n",
       "2                   62.7                97.4           55.7    173.0   \n",
       "3                   60.3                91.1           54.3    175.2   \n",
       "4                   59.9                98.1           55.9    175.1   \n",
       "...                  ...                 ...            ...      ...   \n",
       "4066                50.9                85.6           54.3    176.1   \n",
       "4067                67.5                94.2           50.5    163.5   \n",
       "4068                55.2                87.1           59.6    190.2   \n",
       "4069                66.6                95.4           49.0    160.3   \n",
       "4070                55.0                81.9           55.0    177.2   \n",
       "\n",
       "      waistbacklength  shouldercircumference    bodyID  DT_W_Pred2  \\\n",
       "0                46.8                  141.5  CSR0001A  136.750000   \n",
       "1                48.4                  124.7  CSR0002A  106.009091   \n",
       "2                47.6                  124.6  CSR0007A   88.520000   \n",
       "3                47.7                  113.3  CSR0008A   80.864000   \n",
       "4                47.0                  119.2  CSR0009A   88.586207   \n",
       "...               ...                    ...       ...         ...   \n",
       "4066             45.8                  106.8  nl_7074a   69.050000   \n",
       "4067             39.9                  112.3  nl_7076a   79.212500   \n",
       "4068             49.4                  116.8  nl_7077a   82.890000   \n",
       "4069             40.1                  108.6  nl_7078a   78.400000   \n",
       "4070             47.1                  111.6  nl_7079a   68.700000   \n",
       "\n",
       "       RF_W_Pred  ABR_W_Pred  \n",
       "0     132.346500  131.980132  \n",
       "1      99.123000   99.235394  \n",
       "2      89.374250   91.174662  \n",
       "3      78.876395   79.632162  \n",
       "4      86.664000   86.773203  \n",
       "...          ...         ...  \n",
       "4066   66.517852   67.426000  \n",
       "4067   79.982750   82.399296  \n",
       "4068   79.437083   77.333871  \n",
       "4069   76.162750   78.114908  \n",
       "4070   69.632801   71.334417  \n",
       "\n",
       "[4071 rows x 13 columns]"
      ]
     },
     "execution_count": 3,
     "metadata": {},
     "output_type": "execute_result"
    }
   ],
   "source": [
    "import pandas as pd\n",
    "pd.read_csv('weight_pred.csv')"
   ]
  },
  {
   "cell_type": "code",
   "execution_count": 4,
   "id": "dc181d50",
   "metadata": {},
   "outputs": [],
   "source": [
    "#starting spark session\n",
    "from pyspark.sql import SparkSession "
   ]
  },
  {
   "cell_type": "code",
   "execution_count": 5,
   "id": "9c84ed0d",
   "metadata": {},
   "outputs": [],
   "source": [
    "#practise is the name of session\n",
    "#start a session\n",
    "spark=SparkSession.builder.appName('Practise').getOrCreate()"
   ]
  },
  {
   "cell_type": "code",
   "execution_count": 6,
   "id": "18852e4e",
   "metadata": {},
   "outputs": [
    {
     "data": {
      "text/html": [
       "\n",
       "            <div>\n",
       "                <p><b>SparkSession - in-memory</b></p>\n",
       "                \n",
       "        <div>\n",
       "            <p><b>SparkContext</b></p>\n",
       "\n",
       "            <p><a href=\"http://DESKTOP-5H31PQ2.hitronhub.home:4040\">Spark UI</a></p>\n",
       "\n",
       "            <dl>\n",
       "              <dt>Version</dt>\n",
       "                <dd><code>v3.3.2</code></dd>\n",
       "              <dt>Master</dt>\n",
       "                <dd><code>local[*]</code></dd>\n",
       "              <dt>AppName</dt>\n",
       "                <dd><code>Practise</code></dd>\n",
       "            </dl>\n",
       "        </div>\n",
       "        \n",
       "            </div>\n",
       "        "
      ],
      "text/plain": [
       "<pyspark.sql.session.SparkSession at 0x1aa81d3dcf0>"
      ]
     },
     "execution_count": 6,
     "metadata": {},
     "output_type": "execute_result"
    }
   ],
   "source": [
    "spark"
   ]
  },
  {
   "cell_type": "code",
   "execution_count": 7,
   "id": "c6a10fda-70a6-4532-a8b3-d0f417d1a152",
   "metadata": {
    "tags": []
   },
   "outputs": [],
   "source": [
    "df_pyspark=spark.read.csv('weight_pred.csv')"
   ]
  },
  {
   "cell_type": "code",
   "execution_count": 8,
   "id": "98040627-7804-4373-8559-52660e9723c3",
   "metadata": {
    "tags": []
   },
   "outputs": [
    {
     "data": {
      "text/plain": [
       "DataFrame[_c0: string, _c1: string, _c2: string, _c3: string, _c4: string, _c5: string, _c6: string, _c7: string, _c8: string, _c9: string, _c10: string, _c11: string, _c12: string]"
      ]
     },
     "execution_count": 8,
     "metadata": {},
     "output_type": "execute_result"
    }
   ],
   "source": [
    "df_pyspark"
   ]
  },
  {
   "cell_type": "code",
   "execution_count": 9,
   "id": "718db568-3526-46c4-855a-339dfc0b97d1",
   "metadata": {
    "tags": []
   },
   "outputs": [
    {
     "name": "stdout",
     "output_type": "stream",
     "text": [
      "+------------+--------------------+------------------+------------------+------------------+-------------+-------+---------------+--------------------+--------+------------------+------------------+------------------+\n",
      "|         _c0|                 _c1|               _c2|               _c3|               _c4|          _c5|    _c6|            _c7|                 _c8|     _c9|              _c10|              _c11|              _c12|\n",
      "+------------+--------------------+------------------+------------------+------------------+-------------+-------+---------------+--------------------+--------+------------------+------------------+------------------+\n",
      "|crotchheight|buttockcircumference|chestcircumference|thighcircumference|waistcircumference|sleeveoutseam|stature|waistbacklength|shouldercircumfer...|  bodyID|        DT_W_Pred2|         RF_W_Pred|        ABR_W_Pred|\n",
      "|        79.6|               138.6|             136.5|              81.2|             141.9|         60.0|  185.6|           46.8|               141.5|CSR0001A|            136.75| 132.3464999999999|131.98013245033144|\n",
      "|        81.0|               111.0|             114.4|              63.0|             104.5|         58.1|  181.0|           48.4|               124.7|CSR0002A|106.00909090909092|  99.1229999999999| 99.23539426523271|\n",
      "|        76.0|               104.1|             112.3|              62.7|              97.4|         55.7|  173.0|           47.6|               124.6|CSR0007A| 88.52000000000001| 89.37425000000016| 91.17466185752895|\n",
      "|        78.1|               102.2|             102.0|              60.3|              91.1|         54.3|  175.2|           47.7|               113.3|CSR0008A| 80.86399999999999| 78.87639545454546| 79.63216168717034|\n",
      "|        77.9|               106.1|             107.8|              59.9|              98.1|         55.9|  175.1|           47.0|               119.2|CSR0009A| 88.58620689655173|            86.664| 86.77320328542109|\n",
      "|        79.3|               110.1|             112.0|              65.0|             102.2|         57.0|  180.1|           49.2|               123.0|CSR0010A|             100.5| 96.20587499999996| 95.21058064516157|\n",
      "|        75.4|               103.6|             105.0|              58.9|              95.0|         53.8|  169.0|           45.6|               115.3|CSR0012A| 80.93333333333332| 79.06738392857146| 80.87243107769399|\n",
      "|        77.1|                93.1|              93.9|              54.6|              80.6|         52.8|  167.5|           43.9|               106.8|CSR0013A|             68.14| 64.13285912433156|63.441468253968196|\n",
      "|        73.1|               106.3|              93.2|              61.6|              86.4|         48.0|  156.4|           39.1|               100.8|CSR0014A|             62.78| 64.84866666666665| 68.51673346693379|\n",
      "|        72.6|                96.4|              88.2|              53.5|              81.0|         49.2|  157.2|           40.3|               100.7|CSR0015A|              57.2|56.970000000000006| 60.37466960352429|\n",
      "|        82.8|                93.8|              98.8|              51.8|              84.6|         59.1|  182.6|           49.6|               116.8|CSR0016A| 77.83333333333333|  73.2115000000001| 74.45333333333332|\n",
      "|        70.5|               132.6|             121.4|              80.6|             110.5|         48.3|  157.8|           35.5|               117.1|CSR0017A|109.08333333333331|  99.9934999999998|103.30614035087724|\n",
      "|        79.0|               105.5|             111.8|              58.9|             100.5|         56.5|  176.4|           47.1|               119.9|CSR0024A| 88.58620689655173| 88.84584523809515| 88.31408647140884|\n",
      "|        80.9|               112.3|             115.0|              63.6|             108.3|         57.6|  180.4|           49.4|               124.0|CSR0025A|106.00909090909092|101.62325000000016|100.70161849710945|\n",
      "|        75.9|               101.4|             105.6|              59.3|              93.1|         53.6|  170.4|           46.7|               119.7|CSR0026A|           82.4875| 80.51086111111111|  81.7883365200767|\n",
      "|        77.9|                97.6|             103.2|              55.3|              89.7|         54.5|  170.8|           46.8|               114.1|CSR0027A| 73.68571428571428| 74.64487499999989| 75.84070351758753|\n",
      "|        73.8|               106.4|             111.3|              61.8|             103.2|         52.7|  165.8|           43.2|               119.5|CSR0028A| 88.35714285714286| 86.04900000000006| 88.28607594936719|\n",
      "|        73.2|               100.7|              99.3|              55.7|              88.3|         51.4|  163.7|           44.4|               113.9|CSR0029A| 66.31428571428572| 70.87174999999996| 72.85771812080536|\n",
      "|        82.0|               103.6|             103.9|              55.4|              93.9|         57.5|  178.6|           48.6|               117.7|CSR0030A|            82.175| 83.11500000000011| 84.03600605143734|\n",
      "+------------+--------------------+------------------+------------------+------------------+-------------+-------+---------------+--------------------+--------+------------------+------------------+------------------+\n",
      "only showing top 20 rows\n",
      "\n"
     ]
    }
   ],
   "source": [
    "df_pyspark.show()"
   ]
  },
  {
   "cell_type": "code",
   "execution_count": 10,
   "id": "080262ca-9d42-405c-9c65-6689f1439658",
   "metadata": {
    "tags": []
   },
   "outputs": [
    {
     "name": "stdout",
     "output_type": "stream",
     "text": [
      "+------------+--------------------+------------------+------------------+------------------+-------------+-------+---------------+---------------------+--------+------------------+------------------+------------------+\n",
      "|crotchheight|buttockcircumference|chestcircumference|thighcircumference|waistcircumference|sleeveoutseam|stature|waistbacklength|shouldercircumference|  bodyID|        DT_W_Pred2|         RF_W_Pred|        ABR_W_Pred|\n",
      "+------------+--------------------+------------------+------------------+------------------+-------------+-------+---------------+---------------------+--------+------------------+------------------+------------------+\n",
      "|        79.6|               138.6|             136.5|              81.2|             141.9|         60.0|  185.6|           46.8|                141.5|CSR0001A|            136.75| 132.3464999999999|131.98013245033144|\n",
      "|        81.0|               111.0|             114.4|              63.0|             104.5|         58.1|  181.0|           48.4|                124.7|CSR0002A|106.00909090909092|  99.1229999999999| 99.23539426523271|\n",
      "|        76.0|               104.1|             112.3|              62.7|              97.4|         55.7|  173.0|           47.6|                124.6|CSR0007A| 88.52000000000001| 89.37425000000016| 91.17466185752895|\n",
      "|        78.1|               102.2|             102.0|              60.3|              91.1|         54.3|  175.2|           47.7|                113.3|CSR0008A| 80.86399999999999| 78.87639545454546| 79.63216168717034|\n",
      "|        77.9|               106.1|             107.8|              59.9|              98.1|         55.9|  175.1|           47.0|                119.2|CSR0009A| 88.58620689655173|            86.664| 86.77320328542109|\n",
      "|        79.3|               110.1|             112.0|              65.0|             102.2|         57.0|  180.1|           49.2|                123.0|CSR0010A|             100.5| 96.20587499999996| 95.21058064516157|\n",
      "|        75.4|               103.6|             105.0|              58.9|              95.0|         53.8|  169.0|           45.6|                115.3|CSR0012A| 80.93333333333332| 79.06738392857146| 80.87243107769399|\n",
      "|        77.1|                93.1|              93.9|              54.6|              80.6|         52.8|  167.5|           43.9|                106.8|CSR0013A|             68.14| 64.13285912433156|63.441468253968196|\n",
      "|        73.1|               106.3|              93.2|              61.6|              86.4|         48.0|  156.4|           39.1|                100.8|CSR0014A|             62.78| 64.84866666666665| 68.51673346693379|\n",
      "|        72.6|                96.4|              88.2|              53.5|              81.0|         49.2|  157.2|           40.3|                100.7|CSR0015A|              57.2|56.970000000000006| 60.37466960352429|\n",
      "|        82.8|                93.8|              98.8|              51.8|              84.6|         59.1|  182.6|           49.6|                116.8|CSR0016A| 77.83333333333333|  73.2115000000001| 74.45333333333332|\n",
      "|        70.5|               132.6|             121.4|              80.6|             110.5|         48.3|  157.8|           35.5|                117.1|CSR0017A|109.08333333333331|  99.9934999999998|103.30614035087724|\n",
      "|        79.0|               105.5|             111.8|              58.9|             100.5|         56.5|  176.4|           47.1|                119.9|CSR0024A| 88.58620689655173| 88.84584523809515| 88.31408647140884|\n",
      "|        80.9|               112.3|             115.0|              63.6|             108.3|         57.6|  180.4|           49.4|                124.0|CSR0025A|106.00909090909092|101.62325000000016|100.70161849710945|\n",
      "|        75.9|               101.4|             105.6|              59.3|              93.1|         53.6|  170.4|           46.7|                119.7|CSR0026A|           82.4875| 80.51086111111111|  81.7883365200767|\n",
      "|        77.9|                97.6|             103.2|              55.3|              89.7|         54.5|  170.8|           46.8|                114.1|CSR0027A| 73.68571428571428| 74.64487499999989| 75.84070351758753|\n",
      "|        73.8|               106.4|             111.3|              61.8|             103.2|         52.7|  165.8|           43.2|                119.5|CSR0028A| 88.35714285714286| 86.04900000000006| 88.28607594936719|\n",
      "|        73.2|               100.7|              99.3|              55.7|              88.3|         51.4|  163.7|           44.4|                113.9|CSR0029A| 66.31428571428572| 70.87174999999996| 72.85771812080536|\n",
      "|        82.0|               103.6|             103.9|              55.4|              93.9|         57.5|  178.6|           48.6|                117.7|CSR0030A|            82.175| 83.11500000000011| 84.03600605143734|\n",
      "|        77.4|               102.7|             102.0|              56.7|              93.6|         53.8|  169.7|           45.7|                111.1|CSR0047A|            73.125| 74.85027403846146| 76.56096718480146|\n",
      "+------------+--------------------+------------------+------------------+------------------+-------------+-------+---------------+---------------------+--------+------------------+------------------+------------------+\n",
      "only showing top 20 rows\n",
      "\n"
     ]
    }
   ],
   "source": [
    "#to consider the first row as the header\n",
    "#reading data in second way considering the first row as the header\n",
    "spark.read.option('header','true').csv('weight_pred.csv').show()"
   ]
  },
  {
   "cell_type": "code",
   "execution_count": 11,
   "id": "d5ad3b3d-f6ca-490a-af43-96c1ee019f1d",
   "metadata": {
    "tags": []
   },
   "outputs": [],
   "source": [
    "df_pyspark=spark.read.option('header','true').csv('weight_pred.csv')"
   ]
  },
  {
   "cell_type": "code",
   "execution_count": 12,
   "id": "e64fe783-2d96-4480-b6f8-441ffc40a905",
   "metadata": {
    "tags": []
   },
   "outputs": [
    {
     "data": {
      "text/plain": [
       "pyspark.sql.dataframe.DataFrame"
      ]
     },
     "execution_count": 12,
     "metadata": {},
     "output_type": "execute_result"
    }
   ],
   "source": [
    "#the type is sql dataframe\n",
    "type(df_pyspark)"
   ]
  },
  {
   "cell_type": "code",
   "execution_count": 13,
   "id": "51c43e2d-78a5-4889-bf47-265d22aa0a72",
   "metadata": {
    "tags": []
   },
   "outputs": [
    {
     "data": {
      "text/plain": [
       "Row(crotchheight='79.6', buttockcircumference='138.6', chestcircumference='136.5', thighcircumference='81.2', waistcircumference='141.9', sleeveoutseam='60.0', stature='185.6', waistbacklength='46.8', shouldercircumference='141.5', bodyID='CSR0001A', DT_W_Pred2='136.75', RF_W_Pred='132.3464999999999', ABR_W_Pred='131.98013245033144')"
      ]
     },
     "execution_count": 13,
     "metadata": {},
     "output_type": "execute_result"
    }
   ],
   "source": [
    "df_pyspark.head()"
   ]
  },
  {
   "cell_type": "code",
   "execution_count": 14,
   "id": "6323295c-30f6-4f30-8636-add9471fdf8e",
   "metadata": {
    "tags": []
   },
   "outputs": [
    {
     "name": "stdout",
     "output_type": "stream",
     "text": [
      "root\n",
      " |-- crotchheight: string (nullable = true)\n",
      " |-- buttockcircumference: string (nullable = true)\n",
      " |-- chestcircumference: string (nullable = true)\n",
      " |-- thighcircumference: string (nullable = true)\n",
      " |-- waistcircumference: string (nullable = true)\n",
      " |-- sleeveoutseam: string (nullable = true)\n",
      " |-- stature: string (nullable = true)\n",
      " |-- waistbacklength: string (nullable = true)\n",
      " |-- shouldercircumference: string (nullable = true)\n",
      " |-- bodyID: string (nullable = true)\n",
      " |-- DT_W_Pred2: string (nullable = true)\n",
      " |-- RF_W_Pred: string (nullable = true)\n",
      " |-- ABR_W_Pred: string (nullable = true)\n",
      "\n"
     ]
    }
   ],
   "source": [
    "#it shows the integers as string but why?\n",
    "# checking the type of columns\n",
    "df_pyspark.printSchema()"
   ]
  },
  {
   "cell_type": "code",
   "execution_count": 15,
   "id": "f85f9925-8c3b-430c-9cd3-9e60b4e2bf4a",
   "metadata": {
    "tags": []
   },
   "outputs": [
    {
     "name": "stdout",
     "output_type": "stream",
     "text": [
      "root\n",
      " |-- crotchheight: double (nullable = true)\n",
      " |-- buttockcircumference: double (nullable = true)\n",
      " |-- chestcircumference: double (nullable = true)\n",
      " |-- thighcircumference: double (nullable = true)\n",
      " |-- waistcircumference: double (nullable = true)\n",
      " |-- sleeveoutseam: double (nullable = true)\n",
      " |-- stature: double (nullable = true)\n",
      " |-- waistbacklength: double (nullable = true)\n",
      " |-- shouldercircumference: double (nullable = true)\n",
      " |-- bodyID: string (nullable = true)\n",
      " |-- DT_W_Pred2: double (nullable = true)\n",
      " |-- RF_W_Pred: double (nullable = true)\n",
      " |-- ABR_W_Pred: double (nullable = true)\n",
      "\n"
     ]
    }
   ],
   "source": [
    "#to shows the type of variables we add inferSchema\n",
    "df_pyspark=spark.read.option('header','true').csv('weight_pred.csv', inferSchema=True)\n",
    "df_pyspark.printSchema()"
   ]
  },
  {
   "cell_type": "code",
   "execution_count": 16,
   "id": "fe4d3651-2bb6-4c0c-bafd-5a93ee597186",
   "metadata": {
    "tags": []
   },
   "outputs": [
    {
     "data": {
      "text/plain": [
       "['crotchheight',\n",
       " 'buttockcircumference',\n",
       " 'chestcircumference',\n",
       " 'thighcircumference',\n",
       " 'waistcircumference',\n",
       " 'sleeveoutseam',\n",
       " 'stature',\n",
       " 'waistbacklength',\n",
       " 'shouldercircumference',\n",
       " 'bodyID',\n",
       " 'DT_W_Pred2',\n",
       " 'RF_W_Pred',\n",
       " 'ABR_W_Pred']"
      ]
     },
     "execution_count": 16,
     "metadata": {},
     "output_type": "execute_result"
    }
   ],
   "source": [
    "#to get the column name\n",
    "df_pyspark.columns"
   ]
  },
  {
   "cell_type": "code",
   "execution_count": 17,
   "id": "014ac3e3-d8cd-4845-a3af-2a9d5117a2ae",
   "metadata": {
    "tags": []
   },
   "outputs": [
    {
     "data": {
      "text/plain": [
       "[Row(crotchheight=79.6, buttockcircumference=138.6, chestcircumference=136.5, thighcircumference=81.2, waistcircumference=141.9, sleeveoutseam=60.0, stature=185.6, waistbacklength=46.8, shouldercircumference=141.5, bodyID='CSR0001A', DT_W_Pred2=136.75, RF_W_Pred=132.3464999999999, ABR_W_Pred=131.98013245033144),\n",
       " Row(crotchheight=81.0, buttockcircumference=111.0, chestcircumference=114.4, thighcircumference=63.0, waistcircumference=104.5, sleeveoutseam=58.1, stature=181.0, waistbacklength=48.4, shouldercircumference=124.7, bodyID='CSR0002A', DT_W_Pred2=106.00909090909092, RF_W_Pred=99.1229999999999, ABR_W_Pred=99.23539426523271),\n",
       " Row(crotchheight=76.0, buttockcircumference=104.1, chestcircumference=112.3, thighcircumference=62.7, waistcircumference=97.4, sleeveoutseam=55.7, stature=173.0, waistbacklength=47.6, shouldercircumference=124.6, bodyID='CSR0007A', DT_W_Pred2=88.52000000000001, RF_W_Pred=89.37425000000016, ABR_W_Pred=91.17466185752895)]"
      ]
     },
     "execution_count": 17,
     "metadata": {},
     "output_type": "execute_result"
    }
   ],
   "source": [
    "#we see in list format \n",
    "#the first 3 rows\n",
    "df_pyspark.head(3)"
   ]
  },
  {
   "cell_type": "code",
   "execution_count": 18,
   "id": "144cd358-e113-4c26-bd48-afade7dd370a",
   "metadata": {
    "tags": []
   },
   "outputs": [
    {
     "data": {
      "text/plain": [
       "DataFrame[stature: double]"
      ]
     },
     "execution_count": 18,
     "metadata": {},
     "output_type": "execute_result"
    }
   ],
   "source": [
    "#to pick just one column\n",
    "df_pyspark.select('stature')"
   ]
  },
  {
   "cell_type": "code",
   "execution_count": 19,
   "id": "2fdf389f-3ea7-49e7-be85-4c4ef9013262",
   "metadata": {
    "tags": []
   },
   "outputs": [
    {
     "data": {
      "text/plain": [
       "pyspark.sql.dataframe.DataFrame"
      ]
     },
     "execution_count": 19,
     "metadata": {},
     "output_type": "execute_result"
    }
   ],
   "source": [
    "type(df_pyspark.select('stature'))"
   ]
  },
  {
   "cell_type": "code",
   "execution_count": 20,
   "id": "d9bd927e-cb57-4f0b-9a64-22e3cebde4d7",
   "metadata": {
    "tags": []
   },
   "outputs": [
    {
     "name": "stdout",
     "output_type": "stream",
     "text": [
      "+-------+------------+\n",
      "|stature|crotchheight|\n",
      "+-------+------------+\n",
      "|  185.6|        79.6|\n",
      "|  181.0|        81.0|\n",
      "|  173.0|        76.0|\n",
      "|  175.2|        78.1|\n",
      "|  175.1|        77.9|\n",
      "|  180.1|        79.3|\n",
      "|  169.0|        75.4|\n",
      "|  167.5|        77.1|\n",
      "|  156.4|        73.1|\n",
      "|  157.2|        72.6|\n",
      "|  182.6|        82.8|\n",
      "|  157.8|        70.5|\n",
      "|  176.4|        79.0|\n",
      "|  180.4|        80.9|\n",
      "|  170.4|        75.9|\n",
      "|  170.8|        77.9|\n",
      "|  165.8|        73.8|\n",
      "|  163.7|        73.2|\n",
      "|  178.6|        82.0|\n",
      "|  169.7|        77.4|\n",
      "+-------+------------+\n",
      "only showing top 20 rows\n",
      "\n"
     ]
    }
   ],
   "source": [
    "#pick up multiple columns\n",
    "df_pyspark.select('stature','crotchheight').show()"
   ]
  },
  {
   "cell_type": "code",
   "execution_count": 21,
   "id": "00e99035-34aa-4599-a5dc-d97eb37a60c1",
   "metadata": {
    "tags": []
   },
   "outputs": [
    {
     "data": {
      "text/plain": [
       "[('crotchheight', 'double'),\n",
       " ('buttockcircumference', 'double'),\n",
       " ('chestcircumference', 'double'),\n",
       " ('thighcircumference', 'double'),\n",
       " ('waistcircumference', 'double'),\n",
       " ('sleeveoutseam', 'double'),\n",
       " ('stature', 'double'),\n",
       " ('waistbacklength', 'double'),\n",
       " ('shouldercircumference', 'double'),\n",
       " ('bodyID', 'string'),\n",
       " ('DT_W_Pred2', 'double'),\n",
       " ('RF_W_Pred', 'double'),\n",
       " ('ABR_W_Pred', 'double')]"
      ]
     },
     "execution_count": 21,
     "metadata": {},
     "output_type": "execute_result"
    }
   ],
   "source": [
    "#when you have question check \n",
    "#how to check data types\n",
    "df_pyspark.dtypes"
   ]
  },
  {
   "cell_type": "code",
   "execution_count": 22,
   "id": "b8a3f047-c1cc-4291-a393-14932a07ebc9",
   "metadata": {
    "tags": []
   },
   "outputs": [
    {
     "name": "stdout",
     "output_type": "stream",
     "text": [
      "+-------+------------------+--------------------+------------------+------------------+------------------+------------------+------------------+------------------+---------------------+--------+-----------------+------------------+------------------+\n",
      "|summary|      crotchheight|buttockcircumference|chestcircumference|thighcircumference|waistcircumference|     sleeveoutseam|           stature|   waistbacklength|shouldercircumference|  bodyID|       DT_W_Pred2|         RF_W_Pred|        ABR_W_Pred|\n",
      "+-------+------------------+--------------------+------------------+------------------+------------------+------------------+------------------+------------------+---------------------+--------+-----------------+------------------+------------------+\n",
      "|  count|              4071|                4071|              4071|              4071|              4071|              4071|              4071|              4071|                 4071|    4071|             4071|              4071|              4071|\n",
      "|   mean| 77.22399901744012|  103.18575288626865|  99.7164824367478|58.948759518545955|  90.1980840088428| 52.88813559322031|169.45571112748706| 44.26718251043961|   110.63009088675972|    null| 75.6184862559413| 74.57335394891624| 76.27767645675105|\n",
      "| stddev|4.7887974642709095|   9.620551221997992|10.973602724892022| 6.749642109641662|13.109256487867077|3.5114252602773885|10.011210972661447|3.5169283694191473|    8.480140173531641|    null|16.99095023168219|15.899354730029861|15.257146328799738|\n",
      "|    min|              60.4|                80.7|              75.3|              41.2|              64.0|              43.3|             138.7|              32.9|                 90.9|CSR0001A|42.48333333333333| 42.94175000000004| 46.99656862745095|\n",
      "|    max|              99.3|               168.4|             151.2|             109.0|             152.9|              67.3|             213.5|              55.3|                144.3|nl_7079a|           136.75| 134.6859999999999|132.84592391304318|\n",
      "+-------+------------------+--------------------+------------------+------------------+------------------+------------------+------------------+------------------+---------------------+--------+-----------------+------------------+------------------+\n",
      "\n"
     ]
    }
   ],
   "source": [
    "#like describe option in pandas\n",
    "df_pyspark.describe().show()"
   ]
  },
  {
   "cell_type": "code",
   "execution_count": 23,
   "id": "ce65d7e9-3bd6-459b-a8ee-a124194e5edf",
   "metadata": {
    "tags": []
   },
   "outputs": [
    {
     "name": "stdout",
     "output_type": "stream",
     "text": [
      "+------------+--------------------+------------------+------------------+------------------+-------------+-------+---------------+---------------------+--------+------------------+------------------+------------------+-----------+\n",
      "|crotchheight|buttockcircumference|chestcircumference|thighcircumference|waistcircumference|sleeveoutseam|stature|waistbacklength|shouldercircumference|  bodyID|        DT_W_Pred2|         RF_W_Pred|        ABR_W_Pred|New_Stature|\n",
      "+------------+--------------------+------------------+------------------+------------------+-------------+-------+---------------+---------------------+--------+------------------+------------------+------------------+-----------+\n",
      "|        79.6|               138.6|             136.5|              81.2|             141.9|         60.0|  185.6|           46.8|                141.5|CSR0001A|            136.75| 132.3464999999999|131.98013245033144|       92.8|\n",
      "|        81.0|               111.0|             114.4|              63.0|             104.5|         58.1|  181.0|           48.4|                124.7|CSR0002A|106.00909090909092|  99.1229999999999| 99.23539426523271|       90.5|\n",
      "|        76.0|               104.1|             112.3|              62.7|              97.4|         55.7|  173.0|           47.6|                124.6|CSR0007A| 88.52000000000001| 89.37425000000016| 91.17466185752895|       86.5|\n",
      "|        78.1|               102.2|             102.0|              60.3|              91.1|         54.3|  175.2|           47.7|                113.3|CSR0008A| 80.86399999999999| 78.87639545454546| 79.63216168717034|       87.6|\n",
      "|        77.9|               106.1|             107.8|              59.9|              98.1|         55.9|  175.1|           47.0|                119.2|CSR0009A| 88.58620689655173|            86.664| 86.77320328542109|      87.55|\n",
      "|        79.3|               110.1|             112.0|              65.0|             102.2|         57.0|  180.1|           49.2|                123.0|CSR0010A|             100.5| 96.20587499999996| 95.21058064516157|      90.05|\n",
      "|        75.4|               103.6|             105.0|              58.9|              95.0|         53.8|  169.0|           45.6|                115.3|CSR0012A| 80.93333333333332| 79.06738392857146| 80.87243107769399|       84.5|\n",
      "|        77.1|                93.1|              93.9|              54.6|              80.6|         52.8|  167.5|           43.9|                106.8|CSR0013A|             68.14| 64.13285912433156|63.441468253968196|      83.75|\n",
      "|        73.1|               106.3|              93.2|              61.6|              86.4|         48.0|  156.4|           39.1|                100.8|CSR0014A|             62.78| 64.84866666666665| 68.51673346693379|       78.2|\n",
      "|        72.6|                96.4|              88.2|              53.5|              81.0|         49.2|  157.2|           40.3|                100.7|CSR0015A|              57.2|56.970000000000006| 60.37466960352429|       78.6|\n",
      "|        82.8|                93.8|              98.8|              51.8|              84.6|         59.1|  182.6|           49.6|                116.8|CSR0016A| 77.83333333333333|  73.2115000000001| 74.45333333333332|       91.3|\n",
      "|        70.5|               132.6|             121.4|              80.6|             110.5|         48.3|  157.8|           35.5|                117.1|CSR0017A|109.08333333333331|  99.9934999999998|103.30614035087724|       78.9|\n",
      "|        79.0|               105.5|             111.8|              58.9|             100.5|         56.5|  176.4|           47.1|                119.9|CSR0024A| 88.58620689655173| 88.84584523809515| 88.31408647140884|       88.2|\n",
      "|        80.9|               112.3|             115.0|              63.6|             108.3|         57.6|  180.4|           49.4|                124.0|CSR0025A|106.00909090909092|101.62325000000016|100.70161849710945|       90.2|\n",
      "|        75.9|               101.4|             105.6|              59.3|              93.1|         53.6|  170.4|           46.7|                119.7|CSR0026A|           82.4875| 80.51086111111111|  81.7883365200767|       85.2|\n",
      "|        77.9|                97.6|             103.2|              55.3|              89.7|         54.5|  170.8|           46.8|                114.1|CSR0027A| 73.68571428571428| 74.64487499999989| 75.84070351758753|       85.4|\n",
      "|        73.8|               106.4|             111.3|              61.8|             103.2|         52.7|  165.8|           43.2|                119.5|CSR0028A| 88.35714285714286| 86.04900000000006| 88.28607594936719|       82.9|\n",
      "|        73.2|               100.7|              99.3|              55.7|              88.3|         51.4|  163.7|           44.4|                113.9|CSR0029A| 66.31428571428572| 70.87174999999996| 72.85771812080536|      81.85|\n",
      "|        82.0|               103.6|             103.9|              55.4|              93.9|         57.5|  178.6|           48.6|                117.7|CSR0030A|            82.175| 83.11500000000011| 84.03600605143734|       89.3|\n",
      "|        77.4|               102.7|             102.0|              56.7|              93.6|         53.8|  169.7|           45.7|                111.1|CSR0047A|            73.125| 74.85027403846146| 76.56096718480146|      84.85|\n",
      "+------------+--------------------+------------------+------------------+------------------+-------------+-------+---------------+---------------------+--------+------------------+------------------+------------------+-----------+\n",
      "only showing top 20 rows\n",
      "\n"
     ]
    }
   ],
   "source": [
    "#adding columns to dataframe with its values\n",
    "df_pyspark.withColumn('New_Stature',df_pyspark['Stature']/2).show()"
   ]
  },
  {
   "cell_type": "code",
   "execution_count": 24,
   "id": "becccadf-01f7-4885-acb9-17c35d15ed16",
   "metadata": {
    "tags": []
   },
   "outputs": [],
   "source": [
    "#how to drop columns\n",
    "# df_pyspark.drop('New_Stature')"
   ]
  },
  {
   "cell_type": "code",
   "execution_count": 25,
   "id": "900ee7e9-335b-48c3-9c7f-658de93903ad",
   "metadata": {
    "tags": []
   },
   "outputs": [
    {
     "name": "stdout",
     "output_type": "stream",
     "text": [
      "+------------+--------------------+------------------+------------------+------------------+-------------+-------+---------------+---------------------+--------+------------------+------------------+------------------+\n",
      "|crotchheight|buttockcircumference|chestcircumference|thighcircumference|waistcircumference|sleeveoutseam|stature|waistbacklength|shouldercircumference|  bodyID|        DT_W_Pred2|         RF_W_Pred|        ABR_W_Pred|\n",
      "+------------+--------------------+------------------+------------------+------------------+-------------+-------+---------------+---------------------+--------+------------------+------------------+------------------+\n",
      "|        79.6|               138.6|             136.5|              81.2|             141.9|         60.0|  185.6|           46.8|                141.5|CSR0001A|            136.75| 132.3464999999999|131.98013245033144|\n",
      "|        81.0|               111.0|             114.4|              63.0|             104.5|         58.1|  181.0|           48.4|                124.7|CSR0002A|106.00909090909092|  99.1229999999999| 99.23539426523271|\n",
      "|        76.0|               104.1|             112.3|              62.7|              97.4|         55.7|  173.0|           47.6|                124.6|CSR0007A| 88.52000000000001| 89.37425000000016| 91.17466185752895|\n",
      "|        78.1|               102.2|             102.0|              60.3|              91.1|         54.3|  175.2|           47.7|                113.3|CSR0008A| 80.86399999999999| 78.87639545454546| 79.63216168717034|\n",
      "|        77.9|               106.1|             107.8|              59.9|              98.1|         55.9|  175.1|           47.0|                119.2|CSR0009A| 88.58620689655173|            86.664| 86.77320328542109|\n",
      "|        79.3|               110.1|             112.0|              65.0|             102.2|         57.0|  180.1|           49.2|                123.0|CSR0010A|             100.5| 96.20587499999996| 95.21058064516157|\n",
      "|        75.4|               103.6|             105.0|              58.9|              95.0|         53.8|  169.0|           45.6|                115.3|CSR0012A| 80.93333333333332| 79.06738392857146| 80.87243107769399|\n",
      "|        77.1|                93.1|              93.9|              54.6|              80.6|         52.8|  167.5|           43.9|                106.8|CSR0013A|             68.14| 64.13285912433156|63.441468253968196|\n",
      "|        73.1|               106.3|              93.2|              61.6|              86.4|         48.0|  156.4|           39.1|                100.8|CSR0014A|             62.78| 64.84866666666665| 68.51673346693379|\n",
      "|        72.6|                96.4|              88.2|              53.5|              81.0|         49.2|  157.2|           40.3|                100.7|CSR0015A|              57.2|56.970000000000006| 60.37466960352429|\n",
      "|        82.8|                93.8|              98.8|              51.8|              84.6|         59.1|  182.6|           49.6|                116.8|CSR0016A| 77.83333333333333|  73.2115000000001| 74.45333333333332|\n",
      "|        70.5|               132.6|             121.4|              80.6|             110.5|         48.3|  157.8|           35.5|                117.1|CSR0017A|109.08333333333331|  99.9934999999998|103.30614035087724|\n",
      "|        79.0|               105.5|             111.8|              58.9|             100.5|         56.5|  176.4|           47.1|                119.9|CSR0024A| 88.58620689655173| 88.84584523809515| 88.31408647140884|\n",
      "|        80.9|               112.3|             115.0|              63.6|             108.3|         57.6|  180.4|           49.4|                124.0|CSR0025A|106.00909090909092|101.62325000000016|100.70161849710945|\n",
      "|        75.9|               101.4|             105.6|              59.3|              93.1|         53.6|  170.4|           46.7|                119.7|CSR0026A|           82.4875| 80.51086111111111|  81.7883365200767|\n",
      "|        77.9|                97.6|             103.2|              55.3|              89.7|         54.5|  170.8|           46.8|                114.1|CSR0027A| 73.68571428571428| 74.64487499999989| 75.84070351758753|\n",
      "|        73.8|               106.4|             111.3|              61.8|             103.2|         52.7|  165.8|           43.2|                119.5|CSR0028A| 88.35714285714286| 86.04900000000006| 88.28607594936719|\n",
      "|        73.2|               100.7|              99.3|              55.7|              88.3|         51.4|  163.7|           44.4|                113.9|CSR0029A| 66.31428571428572| 70.87174999999996| 72.85771812080536|\n",
      "|        82.0|               103.6|             103.9|              55.4|              93.9|         57.5|  178.6|           48.6|                117.7|CSR0030A|            82.175| 83.11500000000011| 84.03600605143734|\n",
      "|        77.4|               102.7|             102.0|              56.7|              93.6|         53.8|  169.7|           45.7|                111.1|CSR0047A|            73.125| 74.85027403846146| 76.56096718480146|\n",
      "+------------+--------------------+------------------+------------------+------------------+-------------+-------+---------------+---------------------+--------+------------------+------------------+------------------+\n",
      "only showing top 20 rows\n",
      "\n"
     ]
    }
   ],
   "source": [
    "#changing \n",
    "df_pyspark.withColumnRenamed('New_Stature','Changed_Name').show()"
   ]
  },
  {
   "cell_type": "code",
   "execution_count": 26,
   "id": "2fb35ca3-8e48-4f32-99f2-7a5c4a9b5b6f",
   "metadata": {
    "tags": []
   },
   "outputs": [
    {
     "data": {
      "text/plain": [
       "['crotchheight',\n",
       " 'buttockcircumference',\n",
       " 'chestcircumference',\n",
       " 'thighcircumference',\n",
       " 'waistcircumference',\n",
       " 'sleeveoutseam',\n",
       " 'stature',\n",
       " 'waistbacklength',\n",
       " 'shouldercircumference',\n",
       " 'bodyID',\n",
       " 'DT_W_Pred2',\n",
       " 'RF_W_Pred',\n",
       " 'ABR_W_Pred']"
      ]
     },
     "execution_count": 26,
     "metadata": {},
     "output_type": "execute_result"
    }
   ],
   "source": [
    "df_pyspark.columns"
   ]
  },
  {
   "cell_type": "code",
   "execution_count": 27,
   "id": "4934aa3b-6dab-44b4-858a-db38e4e265e7",
   "metadata": {
    "tags": []
   },
   "outputs": [
    {
     "name": "stdout",
     "output_type": "stream",
     "text": [
      "+------------+--------------------+------------------+------------------+------------------+-------------+-------+---------------+---------------------+--------+------------------+------------------+------------------+\n",
      "|crotchheight|buttockcircumference|chestcircumference|thighcircumference|waistcircumference|sleeveoutseam|stature|waistbacklength|shouldercircumference|  bodyID|        DT_W_Pred2|         RF_W_Pred|        ABR_W_Pred|\n",
      "+------------+--------------------+------------------+------------------+------------------+-------------+-------+---------------+---------------------+--------+------------------+------------------+------------------+\n",
      "|        79.6|               138.6|             136.5|              81.2|             141.9|         60.0|  185.6|           46.8|                141.5|CSR0001A|            136.75| 132.3464999999999|131.98013245033144|\n",
      "|        81.0|               111.0|             114.4|              63.0|             104.5|         58.1|  181.0|           48.4|                124.7|CSR0002A|106.00909090909092|  99.1229999999999| 99.23539426523271|\n",
      "|        76.0|               104.1|             112.3|              62.7|              97.4|         55.7|  173.0|           47.6|                124.6|CSR0007A| 88.52000000000001| 89.37425000000016| 91.17466185752895|\n",
      "|        78.1|               102.2|             102.0|              60.3|              91.1|         54.3|  175.2|           47.7|                113.3|CSR0008A| 80.86399999999999| 78.87639545454546| 79.63216168717034|\n",
      "|        77.9|               106.1|             107.8|              59.9|              98.1|         55.9|  175.1|           47.0|                119.2|CSR0009A| 88.58620689655173|            86.664| 86.77320328542109|\n",
      "|        79.3|               110.1|             112.0|              65.0|             102.2|         57.0|  180.1|           49.2|                123.0|CSR0010A|             100.5| 96.20587499999996| 95.21058064516157|\n",
      "|        75.4|               103.6|             105.0|              58.9|              95.0|         53.8|  169.0|           45.6|                115.3|CSR0012A| 80.93333333333332| 79.06738392857146| 80.87243107769399|\n",
      "|        77.1|                93.1|              93.9|              54.6|              80.6|         52.8|  167.5|           43.9|                106.8|CSR0013A|             68.14| 64.13285912433156|63.441468253968196|\n",
      "|        73.1|               106.3|              93.2|              61.6|              86.4|         48.0|  156.4|           39.1|                100.8|CSR0014A|             62.78| 64.84866666666665| 68.51673346693379|\n",
      "|        72.6|                96.4|              88.2|              53.5|              81.0|         49.2|  157.2|           40.3|                100.7|CSR0015A|              57.2|56.970000000000006| 60.37466960352429|\n",
      "|        82.8|                93.8|              98.8|              51.8|              84.6|         59.1|  182.6|           49.6|                116.8|CSR0016A| 77.83333333333333|  73.2115000000001| 74.45333333333332|\n",
      "|        70.5|               132.6|             121.4|              80.6|             110.5|         48.3|  157.8|           35.5|                117.1|CSR0017A|109.08333333333331|  99.9934999999998|103.30614035087724|\n",
      "|        79.0|               105.5|             111.8|              58.9|             100.5|         56.5|  176.4|           47.1|                119.9|CSR0024A| 88.58620689655173| 88.84584523809515| 88.31408647140884|\n",
      "|        80.9|               112.3|             115.0|              63.6|             108.3|         57.6|  180.4|           49.4|                124.0|CSR0025A|106.00909090909092|101.62325000000016|100.70161849710945|\n",
      "|        75.9|               101.4|             105.6|              59.3|              93.1|         53.6|  170.4|           46.7|                119.7|CSR0026A|           82.4875| 80.51086111111111|  81.7883365200767|\n",
      "|        77.9|                97.6|             103.2|              55.3|              89.7|         54.5|  170.8|           46.8|                114.1|CSR0027A| 73.68571428571428| 74.64487499999989| 75.84070351758753|\n",
      "|        73.8|               106.4|             111.3|              61.8|             103.2|         52.7|  165.8|           43.2|                119.5|CSR0028A| 88.35714285714286| 86.04900000000006| 88.28607594936719|\n",
      "|        73.2|               100.7|              99.3|              55.7|              88.3|         51.4|  163.7|           44.4|                113.9|CSR0029A| 66.31428571428572| 70.87174999999996| 72.85771812080536|\n",
      "|        82.0|               103.6|             103.9|              55.4|              93.9|         57.5|  178.6|           48.6|                117.7|CSR0030A|            82.175| 83.11500000000011| 84.03600605143734|\n",
      "|        77.4|               102.7|             102.0|              56.7|              93.6|         53.8|  169.7|           45.7|                111.1|CSR0047A|            73.125| 74.85027403846146| 76.56096718480146|\n",
      "+------------+--------------------+------------------+------------------+------------------+-------------+-------+---------------+---------------------+--------+------------------+------------------+------------------+\n",
      "only showing top 20 rows\n",
      "\n"
     ]
    }
   ],
   "source": [
    "#drop the rows ccontaining nulls\n",
    "df_pyspark.na.drop().show()"
   ]
  },
  {
   "cell_type": "code",
   "execution_count": 28,
   "id": "0cb207e0-20fe-468a-80ab-52b4fbc05c35",
   "metadata": {
    "tags": []
   },
   "outputs": [
    {
     "name": "stdout",
     "output_type": "stream",
     "text": [
      "+------------+--------------------+------------------+------------------+------------------+-------------+-------+---------------+---------------------+--------+------------------+------------------+------------------+\n",
      "|crotchheight|buttockcircumference|chestcircumference|thighcircumference|waistcircumference|sleeveoutseam|stature|waistbacklength|shouldercircumference|  bodyID|        DT_W_Pred2|         RF_W_Pred|        ABR_W_Pred|\n",
      "+------------+--------------------+------------------+------------------+------------------+-------------+-------+---------------+---------------------+--------+------------------+------------------+------------------+\n",
      "|        79.6|               138.6|             136.5|              81.2|             141.9|         60.0|  185.6|           46.8|                141.5|CSR0001A|            136.75| 132.3464999999999|131.98013245033144|\n",
      "|        81.0|               111.0|             114.4|              63.0|             104.5|         58.1|  181.0|           48.4|                124.7|CSR0002A|106.00909090909092|  99.1229999999999| 99.23539426523271|\n",
      "|        76.0|               104.1|             112.3|              62.7|              97.4|         55.7|  173.0|           47.6|                124.6|CSR0007A| 88.52000000000001| 89.37425000000016| 91.17466185752895|\n",
      "|        78.1|               102.2|             102.0|              60.3|              91.1|         54.3|  175.2|           47.7|                113.3|CSR0008A| 80.86399999999999| 78.87639545454546| 79.63216168717034|\n",
      "|        77.9|               106.1|             107.8|              59.9|              98.1|         55.9|  175.1|           47.0|                119.2|CSR0009A| 88.58620689655173|            86.664| 86.77320328542109|\n",
      "|        79.3|               110.1|             112.0|              65.0|             102.2|         57.0|  180.1|           49.2|                123.0|CSR0010A|             100.5| 96.20587499999996| 95.21058064516157|\n",
      "|        75.4|               103.6|             105.0|              58.9|              95.0|         53.8|  169.0|           45.6|                115.3|CSR0012A| 80.93333333333332| 79.06738392857146| 80.87243107769399|\n",
      "|        77.1|                93.1|              93.9|              54.6|              80.6|         52.8|  167.5|           43.9|                106.8|CSR0013A|             68.14| 64.13285912433156|63.441468253968196|\n",
      "|        73.1|               106.3|              93.2|              61.6|              86.4|         48.0|  156.4|           39.1|                100.8|CSR0014A|             62.78| 64.84866666666665| 68.51673346693379|\n",
      "|        72.6|                96.4|              88.2|              53.5|              81.0|         49.2|  157.2|           40.3|                100.7|CSR0015A|              57.2|56.970000000000006| 60.37466960352429|\n",
      "|        82.8|                93.8|              98.8|              51.8|              84.6|         59.1|  182.6|           49.6|                116.8|CSR0016A| 77.83333333333333|  73.2115000000001| 74.45333333333332|\n",
      "|        70.5|               132.6|             121.4|              80.6|             110.5|         48.3|  157.8|           35.5|                117.1|CSR0017A|109.08333333333331|  99.9934999999998|103.30614035087724|\n",
      "|        79.0|               105.5|             111.8|              58.9|             100.5|         56.5|  176.4|           47.1|                119.9|CSR0024A| 88.58620689655173| 88.84584523809515| 88.31408647140884|\n",
      "|        80.9|               112.3|             115.0|              63.6|             108.3|         57.6|  180.4|           49.4|                124.0|CSR0025A|106.00909090909092|101.62325000000016|100.70161849710945|\n",
      "|        75.9|               101.4|             105.6|              59.3|              93.1|         53.6|  170.4|           46.7|                119.7|CSR0026A|           82.4875| 80.51086111111111|  81.7883365200767|\n",
      "|        77.9|                97.6|             103.2|              55.3|              89.7|         54.5|  170.8|           46.8|                114.1|CSR0027A| 73.68571428571428| 74.64487499999989| 75.84070351758753|\n",
      "|        73.8|               106.4|             111.3|              61.8|             103.2|         52.7|  165.8|           43.2|                119.5|CSR0028A| 88.35714285714286| 86.04900000000006| 88.28607594936719|\n",
      "|        73.2|               100.7|              99.3|              55.7|              88.3|         51.4|  163.7|           44.4|                113.9|CSR0029A| 66.31428571428572| 70.87174999999996| 72.85771812080536|\n",
      "|        82.0|               103.6|             103.9|              55.4|              93.9|         57.5|  178.6|           48.6|                117.7|CSR0030A|            82.175| 83.11500000000011| 84.03600605143734|\n",
      "|        77.4|               102.7|             102.0|              56.7|              93.6|         53.8|  169.7|           45.7|                111.1|CSR0047A|            73.125| 74.85027403846146| 76.56096718480146|\n",
      "+------------+--------------------+------------------+------------------+------------------+-------------+-------+---------------+---------------------+--------+------------------+------------------+------------------+\n",
      "only showing top 20 rows\n",
      "\n"
     ]
    }
   ],
   "source": [
    "###any===how even if there is one null in the row will remove it\n",
    "### it can also be all\n",
    "df_pyspark.na.drop(how=\"any\").show()\n"
   ]
  },
  {
   "cell_type": "code",
   "execution_count": 29,
   "id": "7a259580-a7de-4849-8af5-004e42cbf101",
   "metadata": {
    "tags": []
   },
   "outputs": [
    {
     "data": {
      "text/plain": [
       "DataFrame[crotchheight: double, buttockcircumference: double, chestcircumference: double, thighcircumference: double, waistcircumference: double, sleeveoutseam: double, stature: double, waistbacklength: double, shouldercircumference: double, bodyID: string, DT_W_Pred2: double, RF_W_Pred: double, ABR_W_Pred: double]"
      ]
     },
     "execution_count": 29,
     "metadata": {},
     "output_type": "execute_result"
    }
   ],
   "source": [
    "###threshold says at least n null values should exist in the row so can be deleted\n",
    "df_pyspark.na.drop(how=\"any\",thresh=2)"
   ]
  },
  {
   "cell_type": "code",
   "execution_count": 30,
   "id": "c0967259-153c-4b4f-8861-f012c8ba1237",
   "metadata": {
    "tags": []
   },
   "outputs": [
    {
     "name": "stdout",
     "output_type": "stream",
     "text": [
      "+------------+--------------------+------------------+------------------+------------------+-------------+-------+---------------+---------------------+--------+------------------+------------------+------------------+\n",
      "|crotchheight|buttockcircumference|chestcircumference|thighcircumference|waistcircumference|sleeveoutseam|stature|waistbacklength|shouldercircumference|  bodyID|        DT_W_Pred2|         RF_W_Pred|        ABR_W_Pred|\n",
      "+------------+--------------------+------------------+------------------+------------------+-------------+-------+---------------+---------------------+--------+------------------+------------------+------------------+\n",
      "|        79.6|               138.6|             136.5|              81.2|             141.9|         60.0|  185.6|           46.8|                141.5|CSR0001A|            136.75| 132.3464999999999|131.98013245033144|\n",
      "|        81.0|               111.0|             114.4|              63.0|             104.5|         58.1|  181.0|           48.4|                124.7|CSR0002A|106.00909090909092|  99.1229999999999| 99.23539426523271|\n",
      "|        76.0|               104.1|             112.3|              62.7|              97.4|         55.7|  173.0|           47.6|                124.6|CSR0007A| 88.52000000000001| 89.37425000000016| 91.17466185752895|\n",
      "|        78.1|               102.2|             102.0|              60.3|              91.1|         54.3|  175.2|           47.7|                113.3|CSR0008A| 80.86399999999999| 78.87639545454546| 79.63216168717034|\n",
      "|        77.9|               106.1|             107.8|              59.9|              98.1|         55.9|  175.1|           47.0|                119.2|CSR0009A| 88.58620689655173|            86.664| 86.77320328542109|\n",
      "|        79.3|               110.1|             112.0|              65.0|             102.2|         57.0|  180.1|           49.2|                123.0|CSR0010A|             100.5| 96.20587499999996| 95.21058064516157|\n",
      "|        75.4|               103.6|             105.0|              58.9|              95.0|         53.8|  169.0|           45.6|                115.3|CSR0012A| 80.93333333333332| 79.06738392857146| 80.87243107769399|\n",
      "|        77.1|                93.1|              93.9|              54.6|              80.6|         52.8|  167.5|           43.9|                106.8|CSR0013A|             68.14| 64.13285912433156|63.441468253968196|\n",
      "|        73.1|               106.3|              93.2|              61.6|              86.4|         48.0|  156.4|           39.1|                100.8|CSR0014A|             62.78| 64.84866666666665| 68.51673346693379|\n",
      "|        72.6|                96.4|              88.2|              53.5|              81.0|         49.2|  157.2|           40.3|                100.7|CSR0015A|              57.2|56.970000000000006| 60.37466960352429|\n",
      "|        82.8|                93.8|              98.8|              51.8|              84.6|         59.1|  182.6|           49.6|                116.8|CSR0016A| 77.83333333333333|  73.2115000000001| 74.45333333333332|\n",
      "|        70.5|               132.6|             121.4|              80.6|             110.5|         48.3|  157.8|           35.5|                117.1|CSR0017A|109.08333333333331|  99.9934999999998|103.30614035087724|\n",
      "|        79.0|               105.5|             111.8|              58.9|             100.5|         56.5|  176.4|           47.1|                119.9|CSR0024A| 88.58620689655173| 88.84584523809515| 88.31408647140884|\n",
      "|        80.9|               112.3|             115.0|              63.6|             108.3|         57.6|  180.4|           49.4|                124.0|CSR0025A|106.00909090909092|101.62325000000016|100.70161849710945|\n",
      "|        75.9|               101.4|             105.6|              59.3|              93.1|         53.6|  170.4|           46.7|                119.7|CSR0026A|           82.4875| 80.51086111111111|  81.7883365200767|\n",
      "|        77.9|                97.6|             103.2|              55.3|              89.7|         54.5|  170.8|           46.8|                114.1|CSR0027A| 73.68571428571428| 74.64487499999989| 75.84070351758753|\n",
      "|        73.8|               106.4|             111.3|              61.8|             103.2|         52.7|  165.8|           43.2|                119.5|CSR0028A| 88.35714285714286| 86.04900000000006| 88.28607594936719|\n",
      "|        73.2|               100.7|              99.3|              55.7|              88.3|         51.4|  163.7|           44.4|                113.9|CSR0029A| 66.31428571428572| 70.87174999999996| 72.85771812080536|\n",
      "|        82.0|               103.6|             103.9|              55.4|              93.9|         57.5|  178.6|           48.6|                117.7|CSR0030A|            82.175| 83.11500000000011| 84.03600605143734|\n",
      "|        77.4|               102.7|             102.0|              56.7|              93.6|         53.8|  169.7|           45.7|                111.1|CSR0047A|            73.125| 74.85027403846146| 76.56096718480146|\n",
      "+------------+--------------------+------------------+------------------+------------------+-------------+-------+---------------+---------------------+--------+------------------+------------------+------------------+\n",
      "only showing top 20 rows\n",
      "\n"
     ]
    }
   ],
   "source": [
    "##subset when specific column has null values delete the entire rows\n",
    "df_pyspark.na.drop(how=\"any\", subset=['stature']).show()"
   ]
  },
  {
   "cell_type": "code",
   "execution_count": 31,
   "id": "b73915fa-6148-46dd-8a4a-9b88b91d8c67",
   "metadata": {
    "tags": []
   },
   "outputs": [
    {
     "name": "stdout",
     "output_type": "stream",
     "text": [
      "+------------+--------------------+------------------+------------------+------------------+-------------+-------+---------------+---------------------+--------+------------------+------------------+------------------+\n",
      "|crotchheight|buttockcircumference|chestcircumference|thighcircumference|waistcircumference|sleeveoutseam|stature|waistbacklength|shouldercircumference|  bodyID|        DT_W_Pred2|         RF_W_Pred|        ABR_W_Pred|\n",
      "+------------+--------------------+------------------+------------------+------------------+-------------+-------+---------------+---------------------+--------+------------------+------------------+------------------+\n",
      "|        79.6|               138.6|             136.5|              81.2|             141.9|         60.0|  185.6|           46.8|                141.5|CSR0001A|            136.75| 132.3464999999999|131.98013245033144|\n",
      "|        81.0|               111.0|             114.4|              63.0|             104.5|         58.1|  181.0|           48.4|                124.7|CSR0002A|106.00909090909092|  99.1229999999999| 99.23539426523271|\n",
      "|        76.0|               104.1|             112.3|              62.7|              97.4|         55.7|  173.0|           47.6|                124.6|CSR0007A| 88.52000000000001| 89.37425000000016| 91.17466185752895|\n",
      "|        78.1|               102.2|             102.0|              60.3|              91.1|         54.3|  175.2|           47.7|                113.3|CSR0008A| 80.86399999999999| 78.87639545454546| 79.63216168717034|\n",
      "|        77.9|               106.1|             107.8|              59.9|              98.1|         55.9|  175.1|           47.0|                119.2|CSR0009A| 88.58620689655173|            86.664| 86.77320328542109|\n",
      "|        79.3|               110.1|             112.0|              65.0|             102.2|         57.0|  180.1|           49.2|                123.0|CSR0010A|             100.5| 96.20587499999996| 95.21058064516157|\n",
      "|        75.4|               103.6|             105.0|              58.9|              95.0|         53.8|  169.0|           45.6|                115.3|CSR0012A| 80.93333333333332| 79.06738392857146| 80.87243107769399|\n",
      "|        77.1|                93.1|              93.9|              54.6|              80.6|         52.8|  167.5|           43.9|                106.8|CSR0013A|             68.14| 64.13285912433156|63.441468253968196|\n",
      "|        73.1|               106.3|              93.2|              61.6|              86.4|         48.0|  156.4|           39.1|                100.8|CSR0014A|             62.78| 64.84866666666665| 68.51673346693379|\n",
      "|        72.6|                96.4|              88.2|              53.5|              81.0|         49.2|  157.2|           40.3|                100.7|CSR0015A|              57.2|56.970000000000006| 60.37466960352429|\n",
      "|        82.8|                93.8|              98.8|              51.8|              84.6|         59.1|  182.6|           49.6|                116.8|CSR0016A| 77.83333333333333|  73.2115000000001| 74.45333333333332|\n",
      "|        70.5|               132.6|             121.4|              80.6|             110.5|         48.3|  157.8|           35.5|                117.1|CSR0017A|109.08333333333331|  99.9934999999998|103.30614035087724|\n",
      "|        79.0|               105.5|             111.8|              58.9|             100.5|         56.5|  176.4|           47.1|                119.9|CSR0024A| 88.58620689655173| 88.84584523809515| 88.31408647140884|\n",
      "|        80.9|               112.3|             115.0|              63.6|             108.3|         57.6|  180.4|           49.4|                124.0|CSR0025A|106.00909090909092|101.62325000000016|100.70161849710945|\n",
      "|        75.9|               101.4|             105.6|              59.3|              93.1|         53.6|  170.4|           46.7|                119.7|CSR0026A|           82.4875| 80.51086111111111|  81.7883365200767|\n",
      "|        77.9|                97.6|             103.2|              55.3|              89.7|         54.5|  170.8|           46.8|                114.1|CSR0027A| 73.68571428571428| 74.64487499999989| 75.84070351758753|\n",
      "|        73.8|               106.4|             111.3|              61.8|             103.2|         52.7|  165.8|           43.2|                119.5|CSR0028A| 88.35714285714286| 86.04900000000006| 88.28607594936719|\n",
      "|        73.2|               100.7|              99.3|              55.7|              88.3|         51.4|  163.7|           44.4|                113.9|CSR0029A| 66.31428571428572| 70.87174999999996| 72.85771812080536|\n",
      "|        82.0|               103.6|             103.9|              55.4|              93.9|         57.5|  178.6|           48.6|                117.7|CSR0030A|            82.175| 83.11500000000011| 84.03600605143734|\n",
      "|        77.4|               102.7|             102.0|              56.7|              93.6|         53.8|  169.7|           45.7|                111.1|CSR0047A|            73.125| 74.85027403846146| 76.56096718480146|\n",
      "+------------+--------------------+------------------+------------------+------------------+-------------+-------+---------------+---------------------+--------+------------------+------------------+------------------+\n",
      "only showing top 20 rows\n",
      "\n"
     ]
    }
   ],
   "source": [
    "###filling the missing values\n",
    "df_pyspark.na.fill('Missing Values',['stature','crotchheight']).show()"
   ]
  },
  {
   "cell_type": "code",
   "execution_count": 32,
   "id": "14fa5c88-a9a2-4216-bbb9-0e511694e96b",
   "metadata": {
    "tags": []
   },
   "outputs": [],
   "source": [
    "##filling missing values with help of mean, median\n",
    "\n",
    "from pyspark.ml.feature import Imputer\n",
    "imputer=Imputer(\n",
    "    \n",
    "    inputCols=['age','Experience','Salary'],\n",
    "    outputCols=[\"{}_imputed\".format(c) for c in ['stature','crotchheight']]).setStrategy(\"mean\")\n"
   ]
  },
  {
   "cell_type": "markdown",
   "id": "c648173c-fe3f-4271-8e08-8e78aec8b236",
   "metadata": {},
   "source": [
    "Filter Operations"
   ]
  },
  {
   "cell_type": "code",
   "execution_count": 33,
   "id": "8e087f34-dc66-44f4-8e52-d79e0bf6e68d",
   "metadata": {
    "tags": []
   },
   "outputs": [
    {
     "name": "stdout",
     "output_type": "stream",
     "text": [
      "+--------+\n",
      "|  bodyID|\n",
      "+--------+\n",
      "|CSR0012A|\n",
      "|CSR0013A|\n",
      "|CSR0014A|\n",
      "|CSR0015A|\n",
      "|CSR0017A|\n",
      "|CSR0028A|\n",
      "|CSR0029A|\n",
      "|CSR0047A|\n",
      "|CSR0052A|\n",
      "|CSR0053A|\n",
      "|CSR0054A|\n",
      "|CSR0055A|\n",
      "|CSR0056A|\n",
      "|CSR0059A|\n",
      "|CSR0064A|\n",
      "|CSR0067A|\n",
      "|CSR0069A|\n",
      "|CSR0070A|\n",
      "|CSR0072A|\n",
      "|CSR0074A|\n",
      "+--------+\n",
      "only showing top 20 rows\n",
      "\n"
     ]
    }
   ],
   "source": [
    "##stature less than 160 cm \n",
    "df_pyspark.filter(\"stature<=170\").select(['bodyID']).show()"
   ]
  },
  {
   "cell_type": "code",
   "execution_count": 34,
   "id": "225ec4cf-3b1d-4208-aed3-810da0525190",
   "metadata": {
    "tags": []
   },
   "outputs": [
    {
     "name": "stdout",
     "output_type": "stream",
     "text": [
      "+------------+--------------------+------------------+------------------+------------------+-------------+-------+---------------+---------------------+--------+------------------+------------------+------------------+\n",
      "|crotchheight|buttockcircumference|chestcircumference|thighcircumference|waistcircumference|sleeveoutseam|stature|waistbacklength|shouldercircumference|  bodyID|        DT_W_Pred2|         RF_W_Pred|        ABR_W_Pred|\n",
      "+------------+--------------------+------------------+------------------+------------------+-------------+-------+---------------+---------------------+--------+------------------+------------------+------------------+\n",
      "|        75.4|               103.6|             105.0|              58.9|              95.0|         53.8|  169.0|           45.6|                115.3|CSR0012A| 80.93333333333332| 79.06738392857146| 80.87243107769399|\n",
      "|        77.1|                93.1|              93.9|              54.6|              80.6|         52.8|  167.5|           43.9|                106.8|CSR0013A|             68.14| 64.13285912433156|63.441468253968196|\n",
      "|        73.1|               106.3|              93.2|              61.6|              86.4|         48.0|  156.4|           39.1|                100.8|CSR0014A|             62.78| 64.84866666666665| 68.51673346693379|\n",
      "|        72.6|                96.4|              88.2|              53.5|              81.0|         49.2|  157.2|           40.3|                100.7|CSR0015A|              57.2|56.970000000000006| 60.37466960352429|\n",
      "|        70.5|               132.6|             121.4|              80.6|             110.5|         48.3|  157.8|           35.5|                117.1|CSR0017A|109.08333333333331|  99.9934999999998|103.30614035087724|\n",
      "|        73.8|               106.4|             111.3|              61.8|             103.2|         52.7|  165.8|           43.2|                119.5|CSR0028A| 88.35714285714286| 86.04900000000006| 88.28607594936719|\n",
      "|        73.2|               100.7|              99.3|              55.7|              88.3|         51.4|  163.7|           44.4|                113.9|CSR0029A| 66.31428571428572| 70.87174999999996| 72.85771812080536|\n",
      "|        77.4|               102.7|             102.0|              56.7|              93.6|         53.8|  169.7|           45.7|                111.1|CSR0047A|            73.125| 74.85027403846146| 76.56096718480146|\n",
      "|        73.7|                89.3|              82.5|              50.0|              66.9|         47.0|  156.2|           40.6|                 95.4|CSR0052A| 50.38000000000001|48.711750000000094| 52.36359999999997|\n",
      "|        69.8|                98.2|             101.4|              58.4|              85.6|         47.9|  155.3|           38.9|                104.1|CSR0053A| 63.57142857142857| 63.16949999999993| 69.18968481375356|\n",
      "|        73.7|               113.1|              97.1|              68.8|              88.6|         48.0|  161.2|           39.7|                106.9|CSR0054A| 77.23333333333332| 75.25124999999991| 77.24322033898261|\n",
      "|        71.1|               103.7|             101.3|              60.7|              87.6|         50.2|  156.5|           39.2|                106.1|CSR0055A| 63.57142857142857| 67.22399999999995| 71.97407407407442|\n",
      "|        68.3|                99.9|              93.9|              55.5|              81.4|         44.8|  146.1|           37.0|                 99.1|CSR0056A|57.477777777777774| 58.54250000000005| 61.56658227848102|\n",
      "|        73.9|               103.0|             102.4|              57.4|              94.9|         52.0|  163.7|           44.7|                110.1|CSR0059A|            73.125|          72.09645| 74.19086357947437|\n",
      "|        73.2|                92.2|              87.7|              52.1|              77.7|         49.4|  158.2|           41.2|                100.2|CSR0064A|             52.95| 54.20582142857142| 59.65353658536596|\n",
      "|        73.8|                97.7|              91.0|              56.5|              81.7|         49.2|  159.7|           42.3|                102.8|CSR0067A| 60.54444444444445| 59.57474999999993|63.138169257340266|\n",
      "|        75.6|                95.4|              91.3|              54.7|              78.8|         51.3|  164.4|           44.0|                104.3|CSR0069A|            62.375|60.399605555555645| 62.04833795013861|\n",
      "|        74.8|                96.3|              97.3|              54.1|              87.1|         52.1|  165.2|           43.2|                107.9|CSR0070A| 66.04444444444444| 65.83925000000005| 67.47751196172204|\n",
      "|        76.9|                95.1|              81.5|              51.4|              75.2|         51.0|  162.0|           42.6|                 96.4|CSR0072A| 54.71666666666666| 53.68580555555556| 57.12780748663109|\n",
      "|        75.2|                92.9|              84.7|              52.1|              73.4|         50.0|  160.7|           41.4|                 98.6|CSR0074A|             52.95| 53.50682142857144|57.485549132947924|\n",
      "+------------+--------------------+------------------+------------------+------------------+-------------+-------+---------------+---------------------+--------+------------------+------------------+------------------+\n",
      "only showing top 20 rows\n",
      "\n"
     ]
    }
   ],
   "source": [
    "##second way for stature less than 170\n",
    "df_pyspark.filter(df_pyspark['stature']<=170).show()"
   ]
  },
  {
   "cell_type": "code",
   "execution_count": 35,
   "id": "4ac60998-cfa2-42c0-8247-e62b3e049083",
   "metadata": {
    "tags": []
   },
   "outputs": [
    {
     "name": "stdout",
     "output_type": "stream",
     "text": [
      "+------------+--------------------+------------------+------------------+------------------+-------------+-------+---------------+---------------------+--------+-----------------+------------------+------------------+\n",
      "|crotchheight|buttockcircumference|chestcircumference|thighcircumference|waistcircumference|sleeveoutseam|stature|waistbacklength|shouldercircumference|  bodyID|       DT_W_Pred2|         RF_W_Pred|        ABR_W_Pred|\n",
      "+------------+--------------------+------------------+------------------+------------------+-------------+-------+---------------+---------------------+--------+-----------------+------------------+------------------+\n",
      "|        75.4|               103.6|             105.0|              58.9|              95.0|         53.8|  169.0|           45.6|                115.3|CSR0012A|80.93333333333332| 79.06738392857146| 80.87243107769399|\n",
      "|        77.1|                93.1|              93.9|              54.6|              80.6|         52.8|  167.5|           43.9|                106.8|CSR0013A|            68.14| 64.13285912433156|63.441468253968196|\n",
      "|        73.8|               106.4|             111.3|              61.8|             103.2|         52.7|  165.8|           43.2|                119.5|CSR0028A|88.35714285714286| 86.04900000000006| 88.28607594936719|\n",
      "|        73.2|               100.7|              99.3|              55.7|              88.3|         51.4|  163.7|           44.4|                113.9|CSR0029A|66.31428571428572| 70.87174999999996| 72.85771812080536|\n",
      "|        77.4|               102.7|             102.0|              56.7|              93.6|         53.8|  169.7|           45.7|                111.1|CSR0047A|           73.125| 74.85027403846146| 76.56096718480146|\n",
      "|        73.7|               113.1|              97.1|              68.8|              88.6|         48.0|  161.2|           39.7|                106.9|CSR0054A|77.23333333333332| 75.25124999999991| 77.24322033898261|\n",
      "|        73.9|               103.0|             102.4|              57.4|              94.9|         52.0|  163.7|           44.7|                110.1|CSR0059A|           73.125|          72.09645| 74.19086357947437|\n",
      "|        75.6|                95.4|              91.3|              54.7|              78.8|         51.3|  164.4|           44.0|                104.3|CSR0069A|           62.375|60.399605555555645| 62.04833795013861|\n",
      "|        74.8|                96.3|              97.3|              54.1|              87.1|         52.1|  165.2|           43.2|                107.9|CSR0070A|66.04444444444444| 65.83925000000005| 67.47751196172204|\n",
      "|        76.9|                95.1|              81.5|              51.4|              75.2|         51.0|  162.0|           42.6|                 96.4|CSR0072A|54.71666666666666| 53.68580555555556| 57.12780748663109|\n",
      "|        75.2|                92.9|              84.7|              52.1|              73.4|         50.0|  160.7|           41.4|                 98.6|CSR0074A|            52.95| 53.50682142857144|57.485549132947924|\n",
      "|        75.1|                99.5|              92.1|              60.3|              74.9|         48.7|  163.7|           43.2|                103.8|CSR0075A|64.91999999999999|62.964208333333296| 64.16927272727276|\n",
      "|        75.8|                94.7|              87.7|              54.8|              76.0|         50.6|  164.1|           42.6|                103.4|CSR0078A|           62.375|  58.2676696428572|60.602637889688815|\n",
      "|        72.2|               121.4|             110.8|              77.8|             102.7|         51.1|  161.1|           39.0|                115.8|CSR0086A|89.43333333333334| 91.81499999999988| 94.75664639443931|\n",
      "|        76.7|               107.6|             104.1|              60.6|              90.5|         52.3|  166.9|           41.8|                107.5|CSR0087A|75.94444444444444| 73.46624999999996| 74.26874999999971|\n",
      "|        75.3|                99.5|             100.8|              56.5|              91.2|         53.3|  168.5|           45.3|                111.5|CSR0088A|           73.125| 72.90608333333337| 73.22379227053105|\n",
      "|        78.3|                91.1|              87.1|              48.9|              76.9|         51.2|  163.1|           40.2|                100.9|CSR0089A|            52.95|  55.0343214285714| 59.34102564102556|\n",
      "|        75.7|                95.6|              84.7|              54.8|              76.8|         49.7|  161.4|           41.4|                 96.9|CSR0090A|53.38571428571429| 55.55193055555549|58.800328947368406|\n",
      "|        77.6|               100.5|              95.8|              59.2|              82.8|         51.6|  167.9|           43.4|                103.9|CSR0096A|             67.3| 66.27825000000003| 67.67896995708138|\n",
      "|        79.7|               107.5|              98.2|              61.6|              86.7|         52.1|  167.4|           41.1|                109.4|CSR0097A|72.91999999999999| 72.52967038690473| 73.22486187845334|\n",
      "+------------+--------------------+------------------+------------------+------------------+-------------+-------+---------------+---------------------+--------+-----------------+------------------+------------------+\n",
      "only showing top 20 rows\n",
      "\n"
     ]
    }
   ],
   "source": [
    "##Multiple Conditions\n",
    "df_pyspark.filter((df_pyspark['stature']<=170)&\n",
    "                 (df_pyspark['stature']>160)).show()"
   ]
  },
  {
   "cell_type": "markdown",
   "id": "b3e0b294-aba4-4d99-86f2-0c5226d52ef0",
   "metadata": {
    "tags": []
   },
   "source": [
    "PySpark GroupBy and Aggregate Functions"
   ]
  },
  {
   "cell_type": "code",
   "execution_count": 36,
   "id": "1115371b-6e1c-4bf6-91aa-366938ddaa87",
   "metadata": {
    "tags": []
   },
   "outputs": [
    {
     "name": "stdout",
     "output_type": "stream",
     "text": [
      "+--------+------------+\n",
      "|  bodyID|sum(Stature)|\n",
      "+--------+------------+\n",
      "|CSR0614A|       159.9|\n",
      "|CSR0629A|       179.7|\n",
      "|CSR1057A|       166.7|\n",
      "|CSR1447A|       173.6|\n",
      "|CSR1558A|       184.2|\n",
      "|CSR1838A|       175.4|\n",
      "|CSR1846A|       159.0|\n",
      "|CSR2053A|       174.3|\n",
      "|CSR2340A|       178.7|\n",
      "|CSR2980A|       173.2|\n",
      "|csr4308a|       166.1|\n",
      "|csr4436a|       167.3|\n",
      "|csr4719a|       165.2|\n",
      "|nl_1436a|       158.4|\n",
      "|nl_6373a|       169.9|\n",
      "|nl_6537a|       163.5|\n",
      "|nl_6642a|       164.5|\n",
      "|nl_6987a|       152.7|\n",
      "|CSR0150A|       175.0|\n",
      "|CSR0158A|       167.6|\n",
      "+--------+------------+\n",
      "only showing top 20 rows\n",
      "\n"
     ]
    }
   ],
   "source": [
    "#group to find sum of stature\n",
    "df_pyspark.groupBy('bodyID').sum('Stature').show()"
   ]
  },
  {
   "cell_type": "code",
   "execution_count": 37,
   "id": "ac511691-eee4-4f6f-8232-d59f0842743e",
   "metadata": {
    "tags": []
   },
   "outputs": [
    {
     "name": "stdout",
     "output_type": "stream",
     "text": [
      "+--------+-----+\n",
      "|  bodyID|count|\n",
      "+--------+-----+\n",
      "|CSR0614A|    1|\n",
      "|CSR0629A|    1|\n",
      "|CSR1057A|    1|\n",
      "|CSR1447A|    1|\n",
      "|CSR1558A|    1|\n",
      "|CSR1838A|    1|\n",
      "|CSR1846A|    1|\n",
      "|CSR2053A|    1|\n",
      "|CSR2340A|    1|\n",
      "|CSR2980A|    1|\n",
      "|csr4308a|    1|\n",
      "|csr4436a|    1|\n",
      "|csr4719a|    1|\n",
      "|nl_1436a|    1|\n",
      "|nl_6373a|    1|\n",
      "|nl_6537a|    1|\n",
      "|nl_6642a|    1|\n",
      "|nl_6987a|    1|\n",
      "|CSR0150A|    1|\n",
      "|CSR0158A|    1|\n",
      "+--------+-----+\n",
      "only showing top 20 rows\n",
      "\n"
     ]
    }
   ],
   "source": [
    "#group to find number of rows in each group in the bodyID\n",
    "df_pyspark.groupBy('bodyID').count().show()"
   ]
  },
  {
   "cell_type": "code",
   "execution_count": 38,
   "id": "f0d0f8db-ebe0-485f-9f0c-37f187770466",
   "metadata": {},
   "outputs": [
    {
     "name": "stdout",
     "output_type": "stream",
     "text": [
      "+--------+------------+\n",
      "|  bodyID|min(Stature)|\n",
      "+--------+------------+\n",
      "|CSR0614A|       159.9|\n",
      "|CSR0629A|       179.7|\n",
      "|CSR1057A|       166.7|\n",
      "|CSR1447A|       173.6|\n",
      "|CSR1558A|       184.2|\n",
      "|CSR1838A|       175.4|\n",
      "|CSR1846A|       159.0|\n",
      "|CSR2053A|       174.3|\n",
      "|CSR2340A|       178.7|\n",
      "|CSR2980A|       173.2|\n",
      "|csr4308a|       166.1|\n",
      "|csr4436a|       167.3|\n",
      "|csr4719a|       165.2|\n",
      "|nl_1436a|       158.4|\n",
      "|nl_6373a|       169.9|\n",
      "|nl_6537a|       163.5|\n",
      "|nl_6642a|       164.5|\n",
      "|nl_6987a|       152.7|\n",
      "|CSR0150A|       175.0|\n",
      "|CSR0158A|       167.6|\n",
      "+--------+------------+\n",
      "only showing top 20 rows\n",
      "\n"
     ]
    }
   ],
   "source": [
    "#group to find min of stature\n",
    "df_pyspark.groupBy('bodyID').min('Stature').show()"
   ]
  },
  {
   "cell_type": "markdown",
   "id": "1fcf1dfd-7c6f-42cd-8366-5a41026b07e3",
   "metadata": {
    "tags": []
   },
   "source": [
    "Read DataFrame API Examples "
   ]
  },
  {
   "cell_type": "code",
   "execution_count": null,
   "id": "27a41a71-ba27-4d5e-bdab-bf862b843846",
   "metadata": {},
   "outputs": [],
   "source": []
  }
 ],
 "metadata": {
  "kernelspec": {
   "display_name": "Python 3 (ipykernel)",
   "language": "python",
   "name": "python3"
  },
  "language_info": {
   "codemirror_mode": {
    "name": "ipython",
    "version": 3
   },
   "file_extension": ".py",
   "mimetype": "text/x-python",
   "name": "python",
   "nbconvert_exporter": "python",
   "pygments_lexer": "ipython3",
   "version": "3.10.5"
  }
 },
 "nbformat": 4,
 "nbformat_minor": 5
}
